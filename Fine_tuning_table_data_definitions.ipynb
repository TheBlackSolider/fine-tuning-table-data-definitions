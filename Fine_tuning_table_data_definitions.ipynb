{
  "nbformat": 4,
  "nbformat_minor": 0,
  "metadata": {
    "colab": {
      "provenance": []
    },
    "kernelspec": {
      "name": "python3",
      "display_name": "Python 3"
    },
    "language_info": {
      "name": "python"
    }
  },
  "cells": [
    {
      "cell_type": "markdown",
      "source": [
        "**Step 1: Simulating Enumeration for Columns**"
      ],
      "metadata": {
        "id": "dwBD5Nl9ebP-"
      }
    },
    {
      "cell_type": "code",
      "execution_count": 3,
      "metadata": {
        "colab": {
          "base_uri": "https://localhost:8080/"
        },
        "id": "QmIHya8sdwgl",
        "outputId": "dae07e23-13da-4b75-9d5f-8233dac43543"
      },
      "outputs": [
        {
          "output_type": "stream",
          "name": "stdout",
          "text": [
            "Simulating the creation of a table with ENUM for 'airline_sentiment'...\n",
            "\n",
            "Creating 'Tweets' table with airline_sentiment as ENUM:\n",
            "ENUM('negative', 'neutral', 'positive')\n"
          ]
        }
      ],
      "source": [
        "# Simulate creating a new table with ENUM for airline_sentiment\n",
        "def simulate_enum_creation():\n",
        "    print(\"Simulating the creation of a table with ENUM for 'airline_sentiment'...\")\n",
        "\n",
        "    # Create simulated ENUM column\n",
        "    airline_sentiments = ['negative', 'neutral', 'positive']\n",
        "\n",
        "    print(\"\\nCreating 'Tweets' table with airline_sentiment as ENUM:\")\n",
        "    print(\"ENUM('negative', 'neutral', 'positive')\")\n",
        "\n",
        "simulate_enum_creation()\n"
      ]
    },
    {
      "cell_type": "markdown",
      "source": [
        "**Explanation:**\n",
        "\n",
        "Enumerations: There is a table that shows how we mimic creating ENUM for the airline_sentiment column and list only options – ‘negative’, ‘neutral’, ‘positive’.\n",
        "\n",
        "Performance Gain: This means that using ENUM can be space saving, and that queries on the column will also be more efficient.\n"
      ],
      "metadata": {
        "id": "LpkNf351eypl"
      }
    },
    {
      "cell_type": "markdown",
      "source": [
        "**Step 2: Adding Foreign Keys (Simulated)**"
      ],
      "metadata": {
        "id": "JkC4FCcfe6xu"
      }
    },
    {
      "cell_type": "code",
      "source": [
        "# Simulate creating foreign key tables for timezones and airlines\n",
        "def simulate_foreign_key_tables():\n",
        "    print(\"\\nSimulating the creation of 'timezones' and 'airlines' tables...\")\n",
        "\n",
        "    # Simulate creating the timezones table\n",
        "    print(\"\\nCreating 'timezones' table:\")\n",
        "    print(\"Columns: timezone_id (primary key), description (text)\")\n",
        "\n",
        "    # Simulate creating the airlines table\n",
        "    print(\"\\nCreating 'airlines' table:\")\n",
        "    print(\"Columns: airline_id (primary key), description (text)\")\n",
        "\n",
        "simulate_foreign_key_tables()\n"
      ],
      "metadata": {
        "colab": {
          "base_uri": "https://localhost:8080/"
        },
        "id": "Pna3fvDJer9m",
        "outputId": "7e7b982c-5a0d-4cb5-cf69-7d881d44f940"
      },
      "execution_count": 4,
      "outputs": [
        {
          "output_type": "stream",
          "name": "stdout",
          "text": [
            "\n",
            "Simulating the creation of 'timezones' and 'airlines' tables...\n",
            "\n",
            "Creating 'timezones' table:\n",
            "Columns: timezone_id (primary key), description (text)\n",
            "\n",
            "Creating 'airlines' table:\n",
            "Columns: airline_id (primary key), description (text)\n"
          ]
        }
      ]
    },
    {
      "cell_type": "markdown",
      "source": [
        "**Explanation:**\n",
        "\n",
        "timezones Table: It has time zone, earliest time, latest time and description columns.\n",
        "\n",
        "airlines Table: It has got information about airlines with a description column.\n",
        "\n",
        "Foreign Keys: These tables will be related to the Tweets table via foreign keys constraints placed on the variables user_timezone and airline."
      ],
      "metadata": {
        "id": "-DJuPh2-fP8T"
      }
    },
    {
      "cell_type": "markdown",
      "source": [
        "**Step 3: Adding Foreign Key Constraints (Simulated)**"
      ],
      "metadata": {
        "id": "UUwKVZqeuKGX"
      }
    },
    {
      "cell_type": "code",
      "source": [
        "# Simulate adding foreign keys between Tweets, timezones, and airlines tables\n",
        "def simulate_adding_foreign_keys():\n",
        "    print(\"\\nSimulating adding foreign keys to the 'Tweets' table...\")\n",
        "\n",
        "    # Foreign key linking user_timezone in Tweets to timezones table\n",
        "    print(\"Adding foreign key for 'user_timezone' in 'Tweets' to 'timezones'...\")\n",
        "\n",
        "    # Foreign key linking airline in Tweets to airlines table\n",
        "    print(\"Adding foreign key for 'airline' in 'Tweets' to 'airlines'...\")\n",
        "\n",
        "simulate_adding_foreign_keys()\n"
      ],
      "metadata": {
        "colab": {
          "base_uri": "https://localhost:8080/"
        },
        "id": "hyic_q5ifGk2",
        "outputId": "e7960a78-d85f-4f53-e5dd-859fc67ca9e3"
      },
      "execution_count": 5,
      "outputs": [
        {
          "output_type": "stream",
          "name": "stdout",
          "text": [
            "\n",
            "Simulating adding foreign keys to the 'Tweets' table...\n",
            "Adding foreign key for 'user_timezone' in 'Tweets' to 'timezones'...\n",
            "Adding foreign key for 'airline' in 'Tweets' to 'airlines'...\n"
          ]
        }
      ]
    },
    {
      "cell_type": "markdown",
      "source": [
        "**Explanation:**\n",
        "\n",
        "Foreign Key for user_timezone: The use of timezones is implemented by correlating the user_timezone of the Tweets table with the timezones table.\n",
        "\n",
        "Foreign Key for airline: Verbindet die airline Spalte in der Tweets Tabelle mit dem airlines table."
      ],
      "metadata": {
        "id": "wmAzyaLqufAh"
      }
    },
    {
      "cell_type": "markdown",
      "source": [
        "## Conclusion\n",
        "\n",
        "In this project, we then applied the DDL to fine-tune the characteristics of the `airline tweets’ table. For columns that had a small vocabulary of alternate values, we developed enumerations while arising referential integrity for keys.\n",
        "\n",
        "### Key Takeaways:\n",
        "- **Enumeration**: Based on the observations, the `airline_sentiment` was transformed to use an ENUM column type which increases performance and decreases storage size.\n",
        "- **Foreign Keys**: The `user_timezone` and `airline` columns were associated with newly introduced `timezones` and `airlines’ tables through foreign keys in order to add the degree of joining constraint to the newly created database.\n",
        "\n",
        "### Future Enhancements:\n",
        "1. **Additional Metadata**: Increase the number of fields in the `timezones` and `airlines` tables; for instance, apart from the names of these objects, it is also useful to know their UTC offsets and contact details correspondingly.\n",
        "2. **Indexing**: Add proper indexes to often searched columns in order to bring maximum query optimization.\n",
        "3. **Real Data Implementation**: All of these changes should be done on a real MySQL server for immediate server optimization and database control.\n"
      ],
      "metadata": {
        "id": "GrDMwXstvILl"
      }
    },
    {
      "cell_type": "code",
      "source": [],
      "metadata": {
        "id": "PAbPkQ_JvIlf"
      },
      "execution_count": 5,
      "outputs": []
    }
  ]
}